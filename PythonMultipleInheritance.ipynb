{
 "cells": [
  {
   "attachments": {},
   "cell_type": "markdown",
   "metadata": {},
   "source": [
    "#### Inheritance"
   ]
  },
  {
   "cell_type": "code",
   "execution_count": 50,
   "metadata": {},
   "outputs": [],
   "source": [
    "class A:\n",
    "    def First(self):\n",
    "        print('This is from A class First method')\n"
   ]
  },
  {
   "cell_type": "code",
   "execution_count": 51,
   "metadata": {},
   "outputs": [],
   "source": [
    "class B(A):\n",
    "    def First(self):\n",
    "        print('This is from B class First method')\n",
    "    def Second(self):\n",
    "        print('This is from B class Second method')"
   ]
  },
  {
   "cell_type": "code",
   "execution_count": 52,
   "metadata": {},
   "outputs": [],
   "source": [
    "class C(A):\n",
    "    def First(self):\n",
    "        print('This is from C class First method')"
   ]
  },
  {
   "cell_type": "code",
   "execution_count": 53,
   "metadata": {},
   "outputs": [],
   "source": [
    "#multiple inheritance.\n",
    "class D(B, C):\n",
    "    def First(self):\n",
    "        print('This is from D class First method')\n"
   ]
  },
  {
   "cell_type": "code",
   "execution_count": 54,
   "metadata": {},
   "outputs": [],
   "source": [
    "# create an object of D\n",
    "d = D()"
   ]
  },
  {
   "cell_type": "code",
   "execution_count": 55,
   "metadata": {},
   "outputs": [
    {
     "name": "stdout",
     "output_type": "stream",
     "text": [
      "This is from D class First method\n"
     ]
    }
   ],
   "source": [
    "d.First()"
   ]
  },
  {
   "cell_type": "code",
   "execution_count": 56,
   "metadata": {},
   "outputs": [
    {
     "name": "stdout",
     "output_type": "stream",
     "text": [
      "This is from B class Second method\n"
     ]
    }
   ],
   "source": [
    "#to call C or B from object of d\n",
    "d.Second()"
   ]
  },
  {
   "cell_type": "code",
   "execution_count": 57,
   "metadata": {},
   "outputs": [
    {
     "name": "stdout",
     "output_type": "stream",
     "text": [
      "This is from B class First method\n"
     ]
    }
   ],
   "source": [
    "B.First(d) "
   ]
  },
  {
   "cell_type": "code",
   "execution_count": 58,
   "metadata": {},
   "outputs": [
    {
     "name": "stdout",
     "output_type": "stream",
     "text": [
      "This is from A class First method\n"
     ]
    }
   ],
   "source": [
    "A.First(d)"
   ]
  },
  {
   "attachments": {},
   "cell_type": "markdown",
   "metadata": {},
   "source": [
    "- D is derived from B, C which are inturn derived from A"
   ]
  },
  {
   "cell_type": "code",
   "execution_count": 59,
   "metadata": {},
   "outputs": [],
   "source": [
    "class D(B, C):\n",
    "    def First(self):\n",
    "        print('This is from D class First method')\n",
    "        C.First(self)\n",
    "        B.First(self)\n",
    "        A.First(self)"
   ]
  },
  {
   "cell_type": "code",
   "execution_count": 60,
   "metadata": {},
   "outputs": [],
   "source": [
    "d1 = D()"
   ]
  },
  {
   "cell_type": "code",
   "execution_count": 61,
   "metadata": {},
   "outputs": [
    {
     "name": "stdout",
     "output_type": "stream",
     "text": [
      "This is from D class First method\n",
      "This is from C class First method\n",
      "This is from B class First method\n",
      "This is from A class First method\n"
     ]
    }
   ],
   "source": [
    "d1.First()"
   ]
  },
  {
   "cell_type": "code",
   "execution_count": null,
   "metadata": {},
   "outputs": [],
   "source": []
  }
 ],
 "metadata": {
  "kernelspec": {
   "display_name": "base",
   "language": "python",
   "name": "python3"
  },
  "language_info": {
   "codemirror_mode": {
    "name": "ipython",
    "version": 3
   },
   "file_extension": ".py",
   "mimetype": "text/x-python",
   "name": "python",
   "nbconvert_exporter": "python",
   "pygments_lexer": "ipython3",
   "version": "3.9.13"
  },
  "orig_nbformat": 4,
  "vscode": {
   "interpreter": {
    "hash": "c13bdbd47bb1d59e639d08280367800f8bfd0da2507696b2c03601558fbc86b6"
   }
  }
 },
 "nbformat": 4,
 "nbformat_minor": 2
}
