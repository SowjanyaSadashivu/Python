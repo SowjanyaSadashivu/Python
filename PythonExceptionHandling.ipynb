{
 "cells": [
  {
   "attachments": {},
   "cell_type": "markdown",
   "metadata": {},
   "source": [
    "#### Exception Handling:\n",
    "- difference between error and exception : \n",
    "- try and except blocks to handle exceptions\n"
   ]
  },
  {
   "cell_type": "code",
   "execution_count": 55,
   "metadata": {},
   "outputs": [],
   "source": [
    "try:\n",
    "    # code where exception occurs\n",
    "    a=b\n",
    "except:\n",
    "    print('Error occured!!')"
   ]
  },
  {
   "cell_type": "code",
   "execution_count": 56,
   "metadata": {},
   "outputs": [],
   "source": [
    "try:\n",
    "    # code where exception occurs\n",
    "    a=b\n",
    "except Exception as ex:\n",
    "    print(ex)"
   ]
  },
  {
   "cell_type": "code",
   "execution_count": 57,
   "metadata": {},
   "outputs": [],
   "source": [
    "try:\n",
    "    # code where exception occurs\n",
    "    a=b\n",
    "except NameError as ne:\n",
    "    print('User has not defined the variable')\n",
    "except Exception as ex:\n",
    "    print(ex)"
   ]
  },
  {
   "cell_type": "code",
   "execution_count": 58,
   "metadata": {},
   "outputs": [
    {
     "name": "stdout",
     "output_type": "stream",
     "text": [
      "unsupported operand type(s) for +: 'int' and 'str'\n"
     ]
    }
   ],
   "source": [
    "try:\n",
    "    # code where exception occurs\n",
    "    a = 1\n",
    "    b = 'Hi'\n",
    "    c = a+b\n",
    "except NameError as ne:\n",
    "    print('User has not defined the variable')\n",
    "except Exception as ex:\n",
    "    print(ex)"
   ]
  },
  {
   "cell_type": "code",
   "execution_count": 59,
   "metadata": {},
   "outputs": [
    {
     "name": "stdout",
     "output_type": "stream",
     "text": [
      "The data type of variables does not match to add.\n"
     ]
    }
   ],
   "source": [
    "try:\n",
    "    # code where exception occurs\n",
    "    a = 1\n",
    "    b = 'Hi'\n",
    "    c = a+b\n",
    "except NameError as ne:\n",
    "    print('User has not defined the variable')\n",
    "except TypeError as te:\n",
    "    print('The data type of variables does not match to add.')\n",
    "except Exception as ex:\n",
    "    print(ex)"
   ]
  },
  {
   "cell_type": "code",
   "execution_count": 60,
   "metadata": {},
   "outputs": [
    {
     "name": "stdout",
     "output_type": "stream",
     "text": [
      "Value of a is:  10\n",
      "Value of b is:  5\n",
      "a \\ b is:  2.0\n",
      "a * b is:  50\n",
      "a + b is:  15\n"
     ]
    }
   ],
   "source": [
    "try:\n",
    "    # code where exception occurs\n",
    "    a = int(input('Enter no for a'))\n",
    "    b = int(input('Enter no for b'))\n",
    "    c = a / b\n",
    "    d = a * b\n",
    "    e = a + b\n",
    "    print('Value of a is: ', a)\n",
    "    print('Value of b is: ', b)\n",
    "    print('a \\ b is: ',c)\n",
    "    print('a * b is: ',d)\n",
    "    print('a + b is: ',e)\n",
    "except NameError as ne:\n",
    "    print('User has not defined the variable')\n",
    "except TypeError as te:\n",
    "    print('The data type of variables does not match to add.')\n",
    "except Exception as ex:\n",
    "    print(ex)"
   ]
  },
  {
   "cell_type": "code",
   "execution_count": 61,
   "metadata": {},
   "outputs": [
    {
     "name": "stdout",
     "output_type": "stream",
     "text": [
      "Value of a is:  9\n",
      "Value of b is:  0\n",
      "An exception occured:  division by zero\n"
     ]
    }
   ],
   "source": [
    "#if we give 0 for a or b\n",
    "try:\n",
    "    # code where exception occurs\n",
    "    a = int(input('Enter no for a'))\n",
    "    b = int(input('Enter no for b'))\n",
    "    print('Value of a is: ', a)\n",
    "    print('Value of b is: ', b)\n",
    "    c = a / b\n",
    "    d = a * b\n",
    "    e = a + b\n",
    "    \n",
    "    print('a \\ b is: ',c)\n",
    "    print('a * b is: ',d)\n",
    "    print('a + b is: ',e)\n",
    "except NameError as ne:\n",
    "    print('User has not defined the variable')\n",
    "except TypeError as te:\n",
    "    print('The data type of variables does not match to add.')\n",
    "#generic exception shaould be written at the end\n",
    "except Exception as ex:\n",
    "    print('An exception occured: ',ex)"
   ]
  },
  {
   "attachments": {},
   "cell_type": "markdown",
   "metadata": {},
   "source": [
    "#### else block : will be executed if no exception occur.\n",
    "#### this is also called as try-else"
   ]
  },
  {
   "cell_type": "code",
   "execution_count": 62,
   "metadata": {},
   "outputs": [
    {
     "name": "stdout",
     "output_type": "stream",
     "text": [
      "Value of a is:  4\n",
      "Value of b is:  2\n",
      "This is from else block\n",
      "a \\ b is:  2.0\n",
      "a * b is:  8\n",
      "a + b is:  6\n"
     ]
    }
   ],
   "source": [
    "try:\n",
    "    # code where exception occurs\n",
    "    a = int(input('Enter no for a'))\n",
    "    b = int(input('Enter no for b'))\n",
    "    print('Value of a is: ', a)\n",
    "    print('Value of b is: ', b)\n",
    "    c = a / b\n",
    "    d = a * b\n",
    "    e = a + b\n",
    "\n",
    "except NameError as ne:\n",
    "    print('User has not defined the variable')\n",
    "except TypeError as te:\n",
    "    print('The data type of variables does not match to add.')\n",
    "#generic exception shaould be written at the end\n",
    "except Exception as ex:\n",
    "    print('An exception occured: ',ex)\n",
    "else:\n",
    "    print('This is from else block')\n",
    "    print('a \\ b is: ',c)\n",
    "    print('a * b is: ',d)\n",
    "    print('a + b is: ',e)"
   ]
  },
  {
   "attachments": {},
   "cell_type": "markdown",
   "metadata": {},
   "source": [
    "#### try-else-finally\n",
    "\n",
    "- finally will be executed whether or not exception occurs.\n",
    "- else is executed only when there are no exception."
   ]
  },
  {
   "cell_type": "code",
   "execution_count": 63,
   "metadata": {},
   "outputs": [
    {
     "name": "stdout",
     "output_type": "stream",
     "text": [
      "Value of a is:  4\n",
      "Value of b is:  2\n",
      "This is from else block\n",
      "a \\ b is:  2.0\n",
      "a * b is:  8\n",
      "a + b is:  6\n",
      "This is finally!!\n"
     ]
    }
   ],
   "source": [
    "try:\n",
    "    # code where exception occurs\n",
    "    a = int(input('Enter no for a'))\n",
    "    b = int(input('Enter no for b'))\n",
    "    print('Value of a is: ', a)\n",
    "    print('Value of b is: ', b)\n",
    "    c = a / b\n",
    "    d = a * b\n",
    "    e = a + b\n",
    "\n",
    "except NameError as ne:\n",
    "    print('User has not defined the variable')\n",
    "except TypeError as te:\n",
    "    print('The data type of variables does not match to add.')\n",
    "#generic exception shaould be written at the end\n",
    "except Exception as ex:\n",
    "    print('An exception occured: ',ex)\n",
    "else:\n",
    "    print('This is from else block')\n",
    "    print('a \\ b is: ',c)\n",
    "    print('a * b is: ',d)\n",
    "    print('a + b is: ',e)\n",
    "finally:\n",
    "    print('This is finally!!')"
   ]
  },
  {
   "attachments": {},
   "cell_type": "markdown",
   "metadata": {},
   "source": [
    "#### custom exception"
   ]
  },
  {
   "cell_type": "code",
   "execution_count": 64,
   "metadata": {},
   "outputs": [],
   "source": [
    "class Error(Exception):\n",
    "    pass"
   ]
  },
  {
   "cell_type": "code",
   "execution_count": 65,
   "metadata": {},
   "outputs": [],
   "source": [
    "class dobException(Error):\n",
    "    pass"
   ]
  },
  {
   "cell_type": "code",
   "execution_count": 68,
   "metadata": {},
   "outputs": [],
   "source": [
    "class generic(Error):\n",
    "    pass"
   ]
  },
  {
   "cell_type": "code",
   "execution_count": 66,
   "metadata": {},
   "outputs": [],
   "source": [
    "import datetime"
   ]
  },
  {
   "cell_type": "code",
   "execution_count": 67,
   "metadata": {},
   "outputs": [
    {
     "name": "stdout",
     "output_type": "stream",
     "text": [
      "The dob year you entered is:  1996\n",
      "Your age is:  27\n",
      "The age is not valid for exam. \n"
     ]
    }
   ],
   "source": [
    "year_ = int(input('Enter year of birth'))\n",
    "print('The dob year you entered is: ', year_)\n",
    "cyear = datetime.date.today().year\n",
    "age = cyear - year_\n",
    "print('Your age is: ', age)\n",
    "try:\n",
    "    if age <=30 & age>20:\n",
    "        print('The age is valid for exam.')\n",
    "    else:\n",
    "        raise dobException\n",
    "except dobException:\n",
    "    print('The age is not valid for exam. ')\n",
    "\n"
   ]
  },
  {
   "cell_type": "code",
   "execution_count": 69,
   "metadata": {},
   "outputs": [
    {
     "name": "stdout",
     "output_type": "stream",
     "text": [
      "The dob year you entered is:  1992\n",
      "Your age is:  31\n",
      "The age is not valid for exam. \n"
     ]
    }
   ],
   "source": [
    "year_ = int(input('Enter year of birth'))\n",
    "print('The dob year you entered is: ', year_)\n",
    "cyear = datetime.date.today().year\n",
    "age = cyear - year_\n",
    "print('Your age is: ', age)\n",
    "try:\n",
    "    if age <=30 & age>20:\n",
    "        print('The age is valid for exam.')\n",
    "    else:\n",
    "        raise generic\n",
    "except generic:\n",
    "    print('The age is not valid for exam. ')"
   ]
  },
  {
   "cell_type": "code",
   "execution_count": null,
   "metadata": {},
   "outputs": [],
   "source": []
  }
 ],
 "metadata": {
  "kernelspec": {
   "display_name": "base",
   "language": "python",
   "name": "python3"
  },
  "language_info": {
   "codemirror_mode": {
    "name": "ipython",
    "version": 3
   },
   "file_extension": ".py",
   "mimetype": "text/x-python",
   "name": "python",
   "nbconvert_exporter": "python",
   "pygments_lexer": "ipython3",
   "version": "3.9.13"
  },
  "orig_nbformat": 4,
  "vscode": {
   "interpreter": {
    "hash": "c13bdbd47bb1d59e639d08280367800f8bfd0da2507696b2c03601558fbc86b6"
   }
  }
 },
 "nbformat": 4,
 "nbformat_minor": 2
}
