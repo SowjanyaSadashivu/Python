{
 "cells": [
  {
   "attachments": {},
   "cell_type": "markdown",
   "metadata": {},
   "source": [
    "#### Class:\n",
    "- Python is an object oriented programming language.\n",
    "- use keyword class follwed by classname.\n",
    "- A Class is like an object constructor, or a \"blueprint\" for creating objects.\n"
   ]
  },
  {
   "cell_type": "code",
   "execution_count": 2,
   "metadata": {},
   "outputs": [],
   "source": [
    "#The pass statement is used as a placeholder for future code\n",
    "class Car:\n",
    "    pass "
   ]
  },
  {
   "cell_type": "code",
   "execution_count": 1,
   "metadata": {},
   "outputs": [],
   "source": [
    "# __init__() is a constructor. it is automatically called when an object is created/instantiated.\n",
    "# self refers or points to the current/calling object\n",
    "class Cars:\n",
    "    def __init__(self, window, door, enginetype) -> None:\n",
    "        self.windows = window\n",
    "        self.doors = door\n",
    "        self.enginetypes = enginetype\n",
    "    def self_driving(self): #passing self, to refer to current object attribute values.\n",
    "        return 'this is {} enginetype'.format(self.enginetypes)\n"
   ]
  },
  {
   "cell_type": "code",
   "execution_count": 3,
   "metadata": {},
   "outputs": [],
   "source": [
    "#creating object\n",
    "cars1 = Cars(4, 2, 'Petrol')"
   ]
  },
  {
   "cell_type": "code",
   "execution_count": 6,
   "metadata": {},
   "outputs": [
    {
     "name": "stdout",
     "output_type": "stream",
     "text": [
      "Windows of Car1: 4\n",
      "Doors of Car1: 2\n",
      "Enginetype of Car1: Petrol\n"
     ]
    }
   ],
   "source": [
    "print('Windows of Car1:',cars1.windows)\n",
    "print('Doors of Car1:',cars1.doors)\n",
    "print('Enginetype of Car1:',cars1.enginetypes)"
   ]
  },
  {
   "cell_type": "code",
   "execution_count": 7,
   "metadata": {},
   "outputs": [],
   "source": [
    "cars2 = Cars(4, 4, 'Diesel')"
   ]
  },
  {
   "cell_type": "code",
   "execution_count": 8,
   "metadata": {},
   "outputs": [
    {
     "name": "stdout",
     "output_type": "stream",
     "text": [
      "Windows of Car2: 4\n",
      "Doors of Car2: 4\n",
      "Enginetype of Car2: Diesel\n"
     ]
    }
   ],
   "source": [
    "print('Windows of Car2:',cars2.windows)\n",
    "print('Doors of Car2:',cars2.doors)\n",
    "print('Enginetype of Car2:',cars2.enginetypes)"
   ]
  },
  {
   "cell_type": "code",
   "execution_count": 9,
   "metadata": {},
   "outputs": [],
   "source": [
    "class Complex:\n",
    "    def __init__(self, realpart, imagpart):\n",
    "        self.r = realpart\n",
    "        self.i = imagpart"
   ]
  },
  {
   "cell_type": "code",
   "execution_count": 10,
   "metadata": {},
   "outputs": [],
   "source": [
    "c = Complex(1, 2)"
   ]
  },
  {
   "cell_type": "code",
   "execution_count": 11,
   "metadata": {},
   "outputs": [
    {
     "data": {
      "text/plain": [
       "2"
      ]
     },
     "execution_count": 11,
     "metadata": {},
     "output_type": "execute_result"
    }
   ],
   "source": [
    "c.i"
   ]
  },
  {
   "cell_type": "code",
   "execution_count": 12,
   "metadata": {},
   "outputs": [
    {
     "data": {
      "text/plain": [
       "1"
      ]
     },
     "execution_count": 12,
     "metadata": {},
     "output_type": "execute_result"
    }
   ],
   "source": [
    "c.r"
   ]
  },
  {
   "cell_type": "code",
   "execution_count": null,
   "metadata": {},
   "outputs": [],
   "source": []
  }
 ],
 "metadata": {
  "kernelspec": {
   "display_name": "Python 3.9.13 ('base')",
   "language": "python",
   "name": "python3"
  },
  "language_info": {
   "codemirror_mode": {
    "name": "ipython",
    "version": 3
   },
   "file_extension": ".py",
   "mimetype": "text/x-python",
   "name": "python",
   "nbconvert_exporter": "python",
   "pygments_lexer": "ipython3",
   "version": "3.9.13"
  },
  "orig_nbformat": 4,
  "vscode": {
   "interpreter": {
    "hash": "c13bdbd47bb1d59e639d08280367800f8bfd0da2507696b2c03601558fbc86b6"
   }
  }
 },
 "nbformat": 4,
 "nbformat_minor": 2
}
