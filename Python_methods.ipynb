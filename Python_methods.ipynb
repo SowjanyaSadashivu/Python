{
 "cells": [
  {
   "cell_type": "markdown",
   "id": "ef87b1c8",
   "metadata": {},
   "source": [
    "Difference between function, instance methods, class methods and static methods."
   ]
  },
  {
   "cell_type": "code",
   "execution_count": 44,
   "id": "f1f625a5",
   "metadata": {},
   "outputs": [],
   "source": [
    "# function methods\n",
    "\n",
    "def this_is_fun():\n",
    "    print('This is just function')"
   ]
  },
  {
   "cell_type": "code",
   "execution_count": 45,
   "id": "2634aee2",
   "metadata": {},
   "outputs": [
    {
     "name": "stdout",
     "output_type": "stream",
     "text": [
      "This is just function\n"
     ]
    }
   ],
   "source": [
    "#call function directly without creating any instance\n",
    "\n",
    "this_is_fun()"
   ]
  },
  {
   "cell_type": "code",
   "execution_count": 46,
   "id": "b45a9a7f",
   "metadata": {},
   "outputs": [],
   "source": [
    "#instance methods\n",
    "\n",
    "class Example:\n",
    "    def method_inside_class(self):\n",
    "        print('This is instance method')"
   ]
  },
  {
   "cell_type": "code",
   "execution_count": 47,
   "id": "cbbb07d3",
   "metadata": {},
   "outputs": [
    {
     "name": "stdout",
     "output_type": "stream",
     "text": [
      "This is instance method\n"
     ]
    }
   ],
   "source": [
    "#call method_inside_class by creating instance of class Example\n",
    "#it has self as a parameter\n",
    "\n",
    "e = Example()\n",
    "e.method_inside_class()"
   ]
  },
  {
   "cell_type": "code",
   "execution_count": 48,
   "id": "acb3d11a",
   "metadata": {},
   "outputs": [],
   "source": [
    "#class method\n",
    "\n",
    "class Example:\n",
    "    test_variable = 20\n",
    "    \n",
    "    def __init__(self, name):\n",
    "        self.name = name\n",
    "    \n",
    "    @classmethod\n",
    "    def class_methods(cls, classname):\n",
    "        print('The value of test_variable is : ', cls.test_variable)\n",
    "        print('This is class name not self.name from __init__ :  ', classname)\n",
    "        \n",
    "    "
   ]
  },
  {
   "cell_type": "code",
   "execution_count": 49,
   "id": "a42659c7",
   "metadata": {},
   "outputs": [
    {
     "name": "stdout",
     "output_type": "stream",
     "text": [
      "The self.name value is :  John\n",
      "The value of test_variable is :  20\n",
      "This is class name not self.name from __init__ :   Sure\n"
     ]
    }
   ],
   "source": [
    "#class method has cls parameter\n",
    "#class method doesnot have access to name, since it does not have self parameter\n",
    "\n",
    "e = Example(\"John\")\n",
    "print(\"The self.name value is : \",e.name)\n",
    "e.class_methods(\"Sure\")"
   ]
  },
  {
   "cell_type": "code",
   "execution_count": 50,
   "id": "258f2b3c",
   "metadata": {},
   "outputs": [],
   "source": [
    "#static method\n",
    "\n",
    "class Example:\n",
    "    test_variable = 20\n",
    "    \n",
    "    def __init__(self, name):\n",
    "        self.name = name\n",
    "    \n",
    "    @classmethod\n",
    "    def class_methods(cls, classname):\n",
    "        print('The value of test_variable is : ', cls.test_variable)\n",
    "        print('This is class name not self.name from __init__ :  ', classname)\n",
    "        \n",
    "    @staticmethod\n",
    "    def static_method(staticname):\n",
    "        print('This is static method')\n",
    "        print('The name of this static method is : ', staticname)\n"
   ]
  },
  {
   "cell_type": "code",
   "execution_count": 51,
   "id": "33c56168",
   "metadata": {},
   "outputs": [
    {
     "name": "stdout",
     "output_type": "stream",
     "text": [
      "This is static method\n",
      "The name of this static method is :  hi\n"
     ]
    }
   ],
   "source": [
    "#static method does not have self or clas as parameter\n",
    "#It can not access self.name\n",
    "#It can not access test_variable which is class variable\n",
    "#static methods can be called without creating objects\n",
    "\n",
    "Example.static_method(\"hi\")"
   ]
  },
  {
   "cell_type": "code",
   "execution_count": 52,
   "id": "59984f04",
   "metadata": {},
   "outputs": [],
   "source": [
    "#try to access class variable and object variables self.name from static method\n",
    "\n",
    "class Example:\n",
    "    test_variable = 20\n",
    "    \n",
    "    def __init__(self, name):\n",
    "        self.name = name\n",
    "    \n",
    "    @classmethod\n",
    "    def class_methods(cls, classname):\n",
    "        print('The value of test_variable is : ', cls.test_variable)\n",
    "        print('This is class name not self.name from __init__ :  ', classname)\n",
    "        \n",
    "    @staticmethod\n",
    "    def static_method(staticname):\n",
    "        print('This is static method')\n",
    "        print('The name of this static method is : ', staticname)\n",
    "        print('This is class variable : ', cls.test_variable)\n",
    "        print('This is object variable: ', self.name)"
   ]
  },
  {
   "cell_type": "code",
   "execution_count": 53,
   "id": "f67d0928",
   "metadata": {},
   "outputs": [
    {
     "name": "stdout",
     "output_type": "stream",
     "text": [
      "This is static method\n",
      "The name of this static method is :  hello}\n"
     ]
    },
    {
     "ename": "NameError",
     "evalue": "name 'cls' is not defined",
     "output_type": "error",
     "traceback": [
      "\u001b[1;31m---------------------------------------------------------------------------\u001b[0m",
      "\u001b[1;31mNameError\u001b[0m                                 Traceback (most recent call last)",
      "\u001b[1;32m~\\AppData\\Local\\Temp\\ipykernel_10484\\2835764187.py\u001b[0m in \u001b[0;36m<module>\u001b[1;34m\u001b[0m\n\u001b[1;32m----> 1\u001b[1;33m \u001b[0mExample\u001b[0m\u001b[1;33m.\u001b[0m\u001b[0mstatic_method\u001b[0m\u001b[1;33m(\u001b[0m\u001b[1;34m\"hello}\"\u001b[0m\u001b[1;33m)\u001b[0m\u001b[1;33m\u001b[0m\u001b[1;33m\u001b[0m\u001b[0m\n\u001b[0m",
      "\u001b[1;32m~\\AppData\\Local\\Temp\\ipykernel_10484\\1679922525.py\u001b[0m in \u001b[0;36mstatic_method\u001b[1;34m(staticname)\u001b[0m\n\u001b[0;32m     16\u001b[0m         \u001b[0mprint\u001b[0m\u001b[1;33m(\u001b[0m\u001b[1;34m'This is static method'\u001b[0m\u001b[1;33m)\u001b[0m\u001b[1;33m\u001b[0m\u001b[1;33m\u001b[0m\u001b[0m\n\u001b[0;32m     17\u001b[0m         \u001b[0mprint\u001b[0m\u001b[1;33m(\u001b[0m\u001b[1;34m'The name of this static method is : '\u001b[0m\u001b[1;33m,\u001b[0m \u001b[0mstaticname\u001b[0m\u001b[1;33m)\u001b[0m\u001b[1;33m\u001b[0m\u001b[1;33m\u001b[0m\u001b[0m\n\u001b[1;32m---> 18\u001b[1;33m         \u001b[0mprint\u001b[0m\u001b[1;33m(\u001b[0m\u001b[1;34m'This is class variable : '\u001b[0m\u001b[1;33m,\u001b[0m \u001b[0mcls\u001b[0m\u001b[1;33m.\u001b[0m\u001b[0mtest_variable\u001b[0m\u001b[1;33m)\u001b[0m\u001b[1;33m\u001b[0m\u001b[1;33m\u001b[0m\u001b[0m\n\u001b[0m\u001b[0;32m     19\u001b[0m         \u001b[0mprint\u001b[0m\u001b[1;33m(\u001b[0m\u001b[1;34m'This is object variable: '\u001b[0m\u001b[1;33m,\u001b[0m \u001b[0mself\u001b[0m\u001b[1;33m.\u001b[0m\u001b[0mname\u001b[0m\u001b[1;33m)\u001b[0m\u001b[1;33m\u001b[0m\u001b[1;33m\u001b[0m\u001b[0m\n",
      "\u001b[1;31mNameError\u001b[0m: name 'cls' is not defined"
     ]
    }
   ],
   "source": [
    "Example.static_method(\"hello}\")"
   ]
  },
  {
   "cell_type": "code",
   "execution_count": null,
   "id": "cd8d4688",
   "metadata": {},
   "outputs": [],
   "source": []
  }
 ],
 "metadata": {
  "kernelspec": {
   "display_name": "Python 3 (ipykernel)",
   "language": "python",
   "name": "python3"
  },
  "language_info": {
   "codemirror_mode": {
    "name": "ipython",
    "version": 3
   },
   "file_extension": ".py",
   "mimetype": "text/x-python",
   "name": "python",
   "nbconvert_exporter": "python",
   "pygments_lexer": "ipython3",
   "version": "3.9.13"
  }
 },
 "nbformat": 4,
 "nbformat_minor": 5
}
