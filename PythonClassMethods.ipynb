{
 "cells": [
  {
   "attachments": {},
   "cell_type": "markdown",
   "metadata": {},
   "source": [
    "##### Class methods as a decorator.\n",
    "- class variables are like global variables with in class outside class methods.\n",
    "- these variables can be accessed directly from class or class methods.\n",
    "\n",
    "- @classmethod is a decorator that is used to get access of class variables.\n",
    " "
   ]
  },
  {
   "cell_type": "code",
   "execution_count": 12,
   "metadata": {},
   "outputs": [],
   "source": [
    "class Car:\n",
    "    base_price = 10000 #class variable\n",
    "    def __init__(self, window, door, color):\n",
    "        self.windows = window\n",
    "        self.doors = door\n",
    "        self.colors = color\n",
    "    def base_price_method(self):\n",
    "        print('The base price is: ', self.base_price)"
   ]
  },
  {
   "cell_type": "code",
   "execution_count": 13,
   "metadata": {},
   "outputs": [
    {
     "data": {
      "text/plain": [
       "10000"
      ]
     },
     "execution_count": 13,
     "metadata": {},
     "output_type": "execute_result"
    }
   ],
   "source": [
    "# accessing base price class variable using object\n",
    "c = Car(2,2,'Red')\n",
    "c.base_price"
   ]
  },
  {
   "cell_type": "code",
   "execution_count": 14,
   "metadata": {},
   "outputs": [
    {
     "data": {
      "text/plain": [
       "10000"
      ]
     },
     "execution_count": 14,
     "metadata": {},
     "output_type": "execute_result"
    }
   ],
   "source": [
    "#accessing class variable from class itself\n",
    "Car.base_price"
   ]
  },
  {
   "attachments": {},
   "cell_type": "markdown",
   "metadata": {},
   "source": [
    "##### the methods in classmethod takes 2 variables cls and a parameter.\n",
    "- for other instantiating methods 'self' is used\n",
    "- for @classmethod functions 'cls' is used.\n",
    "- 'self' refers to object of class.\n",
    "- 'cls' refers to class itself."
   ]
  },
  {
   "cell_type": "code",
   "execution_count": 15,
   "metadata": {},
   "outputs": [],
   "source": [
    "#creating @classmethod\n",
    "class Car:\n",
    "    base_price = 10000 #class variable\n",
    "    def __init__(self, window, door, color):\n",
    "        self.windows = window\n",
    "        self.doors = door\n",
    "        self.colors = color\n",
    "    def base_price_method(self):\n",
    "        print('The base price is: ', self.base_price)\n",
    "    @classmethod\n",
    "    def change_base_price(cls, inflation):\n",
    "        cls.base_price = cls.base_price + cls.base_price * inflation"
   ]
  },
  {
   "cell_type": "code",
   "execution_count": 16,
   "metadata": {},
   "outputs": [
    {
     "data": {
      "text/plain": [
       "11000.0"
      ]
     },
     "execution_count": 16,
     "metadata": {},
     "output_type": "execute_result"
    }
   ],
   "source": [
    "#accessing the @classmethods directly from class\n",
    "Car.change_base_price(0.10)\n",
    "Car.base_price"
   ]
  },
  {
   "attachments": {},
   "cell_type": "markdown",
   "metadata": {},
   "source": [
    "- the value of base price is changed.\n",
    "- the remain same even when we create an object and try to access the variable.\n"
   ]
  },
  {
   "cell_type": "code",
   "execution_count": 17,
   "metadata": {},
   "outputs": [
    {
     "data": {
      "text/plain": [
       "11000.0"
      ]
     },
     "execution_count": 17,
     "metadata": {},
     "output_type": "execute_result"
    }
   ],
   "source": [
    "c = Car(3, 4, 'Red')\n",
    "c.base_price"
   ]
  },
  {
   "cell_type": "code",
   "execution_count": 18,
   "metadata": {},
   "outputs": [
    {
     "data": {
      "text/plain": [
       "12100.0"
      ]
     },
     "execution_count": 18,
     "metadata": {},
     "output_type": "execute_result"
    }
   ],
   "source": [
    "#accessing and changinf the base value through an object\n",
    "c = Car(1, 2, 'Blue')\n",
    "c.change_base_price(0.10)\n",
    "c.base_price"
   ]
  },
  {
   "attachments": {},
   "cell_type": "markdown",
   "metadata": {},
   "source": [
    "- the value of the base price is changed again by the object of a class.\n",
    "- the changes remain global for all methods and other objects created of class."
   ]
  },
  {
   "cell_type": "code",
   "execution_count": 19,
   "metadata": {},
   "outputs": [
    {
     "data": {
      "text/plain": [
       "12100.0"
      ]
     },
     "execution_count": 19,
     "metadata": {},
     "output_type": "execute_result"
    }
   ],
   "source": [
    "c1 = Car(2, 3, 'White')\n",
    "c1.base_price"
   ]
  },
  {
   "attachments": {},
   "cell_type": "markdown",
   "metadata": {},
   "source": [
    "- It is ideal and preferred to make changes to the class methods directly by class rather objects pf class."
   ]
  },
  {
   "cell_type": "code",
   "execution_count": null,
   "metadata": {},
   "outputs": [],
   "source": []
  }
 ],
 "metadata": {
  "kernelspec": {
   "display_name": "base",
   "language": "python",
   "name": "python3"
  },
  "language_info": {
   "codemirror_mode": {
    "name": "ipython",
    "version": 3
   },
   "file_extension": ".py",
   "mimetype": "text/x-python",
   "name": "python",
   "nbconvert_exporter": "python",
   "pygments_lexer": "ipython3",
   "version": "3.9.13"
  },
  "orig_nbformat": 4,
  "vscode": {
   "interpreter": {
    "hash": "c13bdbd47bb1d59e639d08280367800f8bfd0da2507696b2c03601558fbc86b6"
   }
  }
 },
 "nbformat": 4,
 "nbformat_minor": 2
}
